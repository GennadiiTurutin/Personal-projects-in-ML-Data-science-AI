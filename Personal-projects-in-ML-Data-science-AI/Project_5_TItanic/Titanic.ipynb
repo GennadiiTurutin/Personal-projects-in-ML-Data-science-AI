{
 "cells": [
  {
   "cell_type": "markdown",
   "metadata": {},
   "source": [
    "# TITANIC"
   ]
  },
  {
   "cell_type": "code",
   "execution_count": 1,
   "metadata": {
    "collapsed": true,
    "scrolled": true
   },
   "outputs": [],
   "source": [
    "# Import of libraries\n",
    "import pandas as pd\n",
    "import numpy as np\n",
    "import matplotlib as mtl\n",
    "import matplotlib.pyplot as plt\n",
    "%matplotlib inline\n",
    "import seaborn as sns\n",
    "import scipy as sc\n",
    "import sklearn\n",
    "import warnings\n",
    "warnings.filterwarnings('ignore') \n",
    "plt.rcParams['figure.figsize'] = (10, 10)"
   ]
  },
  {
   "cell_type": "code",
   "execution_count": 2,
   "metadata": {
    "collapsed": true
   },
   "outputs": [],
   "source": [
    "#Import of data\n",
    "prediction = pd.read_csv(\"test.csv\", sep = \",\")\n",
    "train = pd.read_csv(\"train.csv\", sep = \",\")\n",
    "data = train.append(prediction) \n",
    "prediction_indexes = prediction['PassengerId']\n",
    "del data['PassengerId']\n",
    "data.reset_index(inplace = True)\n",
    "del data['index']"
   ]
  },
  {
   "cell_type": "markdown",
   "metadata": {},
   "source": [
    "# Observation"
   ]
  },
  {
   "cell_type": "code",
   "execution_count": 3,
   "metadata": {},
   "outputs": [
    {
     "data": {
      "text/html": [
       "<div>\n",
       "<style>\n",
       "    .dataframe thead tr:only-child th {\n",
       "        text-align: right;\n",
       "    }\n",
       "\n",
       "    .dataframe thead th {\n",
       "        text-align: left;\n",
       "    }\n",
       "\n",
       "    .dataframe tbody tr th {\n",
       "        vertical-align: top;\n",
       "    }\n",
       "</style>\n",
       "<table border=\"1\" class=\"dataframe\">\n",
       "  <thead>\n",
       "    <tr style=\"text-align: right;\">\n",
       "      <th></th>\n",
       "      <th>Age</th>\n",
       "      <th>Cabin</th>\n",
       "      <th>Embarked</th>\n",
       "      <th>Fare</th>\n",
       "      <th>Name</th>\n",
       "      <th>Parch</th>\n",
       "      <th>Pclass</th>\n",
       "      <th>Sex</th>\n",
       "      <th>SibSp</th>\n",
       "      <th>Survived</th>\n",
       "      <th>Ticket</th>\n",
       "    </tr>\n",
       "  </thead>\n",
       "  <tbody>\n",
       "    <tr>\n",
       "      <th>0</th>\n",
       "      <td>22.0</td>\n",
       "      <td>NaN</td>\n",
       "      <td>S</td>\n",
       "      <td>7.2500</td>\n",
       "      <td>Braund, Mr. Owen Harris</td>\n",
       "      <td>0</td>\n",
       "      <td>3</td>\n",
       "      <td>male</td>\n",
       "      <td>1</td>\n",
       "      <td>0.0</td>\n",
       "      <td>A/5 21171</td>\n",
       "    </tr>\n",
       "    <tr>\n",
       "      <th>1</th>\n",
       "      <td>38.0</td>\n",
       "      <td>C85</td>\n",
       "      <td>C</td>\n",
       "      <td>71.2833</td>\n",
       "      <td>Cumings, Mrs. John Bradley (Florence Briggs Th...</td>\n",
       "      <td>0</td>\n",
       "      <td>1</td>\n",
       "      <td>female</td>\n",
       "      <td>1</td>\n",
       "      <td>1.0</td>\n",
       "      <td>PC 17599</td>\n",
       "    </tr>\n",
       "    <tr>\n",
       "      <th>2</th>\n",
       "      <td>26.0</td>\n",
       "      <td>NaN</td>\n",
       "      <td>S</td>\n",
       "      <td>7.9250</td>\n",
       "      <td>Heikkinen, Miss. Laina</td>\n",
       "      <td>0</td>\n",
       "      <td>3</td>\n",
       "      <td>female</td>\n",
       "      <td>0</td>\n",
       "      <td>1.0</td>\n",
       "      <td>STON/O2. 3101282</td>\n",
       "    </tr>\n",
       "    <tr>\n",
       "      <th>3</th>\n",
       "      <td>35.0</td>\n",
       "      <td>C123</td>\n",
       "      <td>S</td>\n",
       "      <td>53.1000</td>\n",
       "      <td>Futrelle, Mrs. Jacques Heath (Lily May Peel)</td>\n",
       "      <td>0</td>\n",
       "      <td>1</td>\n",
       "      <td>female</td>\n",
       "      <td>1</td>\n",
       "      <td>1.0</td>\n",
       "      <td>113803</td>\n",
       "    </tr>\n",
       "    <tr>\n",
       "      <th>4</th>\n",
       "      <td>35.0</td>\n",
       "      <td>NaN</td>\n",
       "      <td>S</td>\n",
       "      <td>8.0500</td>\n",
       "      <td>Allen, Mr. William Henry</td>\n",
       "      <td>0</td>\n",
       "      <td>3</td>\n",
       "      <td>male</td>\n",
       "      <td>0</td>\n",
       "      <td>0.0</td>\n",
       "      <td>373450</td>\n",
       "    </tr>\n",
       "  </tbody>\n",
       "</table>\n",
       "</div>"
      ],
      "text/plain": [
       "    Age Cabin Embarked     Fare  \\\n",
       "0  22.0   NaN        S   7.2500   \n",
       "1  38.0   C85        C  71.2833   \n",
       "2  26.0   NaN        S   7.9250   \n",
       "3  35.0  C123        S  53.1000   \n",
       "4  35.0   NaN        S   8.0500   \n",
       "\n",
       "                                                Name  Parch  Pclass     Sex  \\\n",
       "0                            Braund, Mr. Owen Harris      0       3    male   \n",
       "1  Cumings, Mrs. John Bradley (Florence Briggs Th...      0       1  female   \n",
       "2                             Heikkinen, Miss. Laina      0       3  female   \n",
       "3       Futrelle, Mrs. Jacques Heath (Lily May Peel)      0       1  female   \n",
       "4                           Allen, Mr. William Henry      0       3    male   \n",
       "\n",
       "   SibSp  Survived            Ticket  \n",
       "0      1       0.0         A/5 21171  \n",
       "1      1       1.0          PC 17599  \n",
       "2      0       1.0  STON/O2. 3101282  \n",
       "3      1       1.0            113803  \n",
       "4      0       0.0            373450  "
      ]
     },
     "execution_count": 3,
     "metadata": {},
     "output_type": "execute_result"
    }
   ],
   "source": [
    "data.head()"
   ]
  },
  {
   "cell_type": "markdown",
   "metadata": {},
   "source": [
    "# Balance of data"
   ]
  },
  {
   "cell_type": "markdown",
   "metadata": {},
   "source": [
    "An important thing is to understand target value distribution. It may define your choice of algorithm. \n",
    "If some class prevails then you data is imbalanced, what can cause problems in learning. \n",
    "There is no clear definition, when data is considered to be imbalanced. \n",
    "With one class comprising approximately over 80% of distribution it may be imbalanced. \n",
    "In our case data is quite balanced. "
   ]
  },
  {
   "cell_type": "code",
   "execution_count": 4,
   "metadata": {},
   "outputs": [
    {
     "data": {
      "text/plain": [
       "<matplotlib.text.Text at 0x16a16fc61d0>"
      ]
     },
     "execution_count": 4,
     "metadata": {},
     "output_type": "execute_result"
    },
    {
     "data": {
      "image/png": "[encoded data removed]",
      "text/plain": [
       "<matplotlib.figure.Figure at 0x16a15f5da90>"
      ]
     },
     "metadata": {},
     "output_type": "display_data"
    }
   ],
   "source": [
    "plt.rcParams['figure.figsize'] = (5, 5)\n",
    "pd.value_counts(train[\"Survived\"])\n",
    "plt.pie([pd.value_counts(train[\"Survived\"])[0], pd.value_counts(train[\"Survived\"])[1]], \n",
    "        labels=[\"NOT SURVIVED\", \"SURVIVED\"], \n",
    "        startangle=90, \n",
    "        shadow=True, \n",
    "        explode=(0, 0.15),\n",
    "        autopct='%1.1f%%')\n",
    "plt.title('Balance of data')"
   ]
  },
  {
   "cell_type": "markdown",
   "metadata": {},
   "source": [
    "## 1.1. Sanity check"
   ]
  },
  {
   "cell_type": "code",
   "execution_count": 5,
   "metadata": {},
   "outputs": [
    {
     "name": "stdout",
     "output_type": "stream",
     "text": [
      "Sanity check for Age: \n",
      "False\n",
      "Sanity check for SibSp: \n",
      "False\n",
      "Sanity check for Sex: \n",
      "False\n"
     ]
    }
   ],
   "source": [
    "print(\"Sanity check for Age: \")\n",
    "print(((data['Age']>100) | (data['Age']<0)).any())\n",
    "print (\"Sanity check for SibSp: \")\n",
    "print((data['SibSp']<0).any())\n",
    "print (\"Sanity check for Sex: \")\n",
    "print(((data['Sex'] != 'male') & (data['Sex']!='female')).any())  "
   ]
  },
  {
   "cell_type": "markdown",
   "metadata": {},
   "source": [
    "## 1.2 Duplicates"
   ]
  },
  {
   "cell_type": "code",
   "execution_count": 6,
   "metadata": {},
   "outputs": [
    {
     "data": {
      "text/plain": [
       "False"
      ]
     },
     "execution_count": 6,
     "metadata": {},
     "output_type": "execute_result"
    }
   ],
   "source": [
    "data.duplicated().any()"
   ]
  },
  {
   "cell_type": "markdown",
   "metadata": {},
   "source": [
    "## 1.3 Leaks"
   ]
  },
  {
   "cell_type": "markdown",
   "metadata": {},
   "source": [
    "I believe, that one of the leaks could be 'MissingCabin'. \n",
    "Probably it was harder to identify cabins of those who didn't survive. Let's check this assumption. "
   ]
  },
  {
   "cell_type": "code",
   "execution_count": 7,
   "metadata": {
    "collapsed": true
   },
   "outputs": [],
   "source": [
    "data['MissingCabin'] = 0\n",
    "data.loc[data['Cabin'].isnull() == True, 'MissingCabin'] = 1"
   ]
  },
  {
   "cell_type": "code",
   "execution_count": 8,
   "metadata": {},
   "outputs": [
    {
     "data": {
      "text/plain": [
       "<matplotlib.axes._subplots.AxesSubplot at 0x16a16fa92b0>"
      ]
     },
     "execution_count": 8,
     "metadata": {},
     "output_type": "execute_result"
    },
    {
     "data": {
      "image/png": "[encoded data removed]",
      "text/plain": [
       "<matplotlib.figure.Figure at 0x16a16fba400>"
      ]
     },
     "metadata": {},
     "output_type": "display_data"
    }
   ],
   "source": [
    "#Relative values\n",
    "plt.rcParams['figure.figsize'] = (5, 5)\n",
    "cross = pd.crosstab(data['MissingCabin'], data[\"Survived\"])\n",
    "cross = cross.div(cross.sum(1).astype(float), axis=0)\n",
    "cross.plot(kind='bar', stacked=False,  grid=False, alpha=0.55)"
   ]
  },
  {
   "cell_type": "markdown",
   "metadata": {},
   "source": [
    "Indeed, we see much lower survival rate among those who have missing values. "
   ]
  },
  {
   "cell_type": "markdown",
   "metadata": {},
   "source": [
    "## 1.4 Missing values"
   ]
  },
  {
   "cell_type": "code",
   "execution_count": 9,
   "metadata": {},
   "outputs": [
    {
     "data": {
      "image/png": "[encoded data removed]",
      "text/plain": [
       "<matplotlib.figure.Figure at 0x16a15f5d320>"
      ]
     },
     "metadata": {},
     "output_type": "display_data"
    }
   ],
   "source": [
    "plt.rcParams['figure.figsize'] = (20, 20)\n",
    "sns.heatmap(data.isnull(),yticklabels=False,cbar=False,cmap='viridis')\n",
    "plt.show()"
   ]
  },
  {
   "cell_type": "markdown",
   "metadata": {},
   "source": [
    "## 1.5 Feature analysis"
   ]
  },
  {
   "cell_type": "code",
   "execution_count": 10,
   "metadata": {},
   "outputs": [
    {
     "data": {
      "text/html": [
       "<div>\n",
       "<style>\n",
       "    .dataframe thead tr:only-child th {\n",
       "        text-align: right;\n",
       "    }\n",
       "\n",
       "    .dataframe thead th {\n",
       "        text-align: left;\n",
       "    }\n",
       "\n",
       "    .dataframe tbody tr th {\n",
       "        vertical-align: top;\n",
       "    }\n",
       "</style>\n",
       "<table border=\"1\" class=\"dataframe\">\n",
       "  <thead>\n",
       "    <tr style=\"text-align: right;\">\n",
       "      <th></th>\n",
       "      <th>Age</th>\n",
       "      <th>Fare</th>\n",
       "      <th>Parch</th>\n",
       "      <th>Pclass</th>\n",
       "      <th>SibSp</th>\n",
       "      <th>Survived</th>\n",
       "      <th>MissingCabin</th>\n",
       "    </tr>\n",
       "  </thead>\n",
       "  <tbody>\n",
       "    <tr>\n",
       "      <th>Age</th>\n",
       "      <td>1.000000</td>\n",
       "      <td>0.178740</td>\n",
       "      <td>-0.150917</td>\n",
       "      <td>-0.408106</td>\n",
       "      <td>-0.243699</td>\n",
       "      <td>-0.077221</td>\n",
       "      <td>-0.289740</td>\n",
       "    </tr>\n",
       "    <tr>\n",
       "      <th>Fare</th>\n",
       "      <td>0.178740</td>\n",
       "      <td>1.000000</td>\n",
       "      <td>0.221539</td>\n",
       "      <td>-0.558629</td>\n",
       "      <td>0.160238</td>\n",
       "      <td>0.257307</td>\n",
       "      <td>-0.507253</td>\n",
       "    </tr>\n",
       "    <tr>\n",
       "      <th>Parch</th>\n",
       "      <td>-0.150917</td>\n",
       "      <td>0.221539</td>\n",
       "      <td>1.000000</td>\n",
       "      <td>0.018322</td>\n",
       "      <td>0.373587</td>\n",
       "      <td>0.081629</td>\n",
       "      <td>-0.036806</td>\n",
       "    </tr>\n",
       "    <tr>\n",
       "      <th>Pclass</th>\n",
       "      <td>-0.408106</td>\n",
       "      <td>-0.558629</td>\n",
       "      <td>0.018322</td>\n",
       "      <td>1.000000</td>\n",
       "      <td>0.060832</td>\n",
       "      <td>-0.338481</td>\n",
       "      <td>0.713857</td>\n",
       "    </tr>\n",
       "    <tr>\n",
       "      <th>SibSp</th>\n",
       "      <td>-0.243699</td>\n",
       "      <td>0.160238</td>\n",
       "      <td>0.373587</td>\n",
       "      <td>0.060832</td>\n",
       "      <td>1.000000</td>\n",
       "      <td>-0.035322</td>\n",
       "      <td>0.009064</td>\n",
       "    </tr>\n",
       "    <tr>\n",
       "      <th>Survived</th>\n",
       "      <td>-0.077221</td>\n",
       "      <td>0.257307</td>\n",
       "      <td>0.081629</td>\n",
       "      <td>-0.338481</td>\n",
       "      <td>-0.035322</td>\n",
       "      <td>1.000000</td>\n",
       "      <td>-0.316912</td>\n",
       "    </tr>\n",
       "    <tr>\n",
       "      <th>MissingCabin</th>\n",
       "      <td>-0.289740</td>\n",
       "      <td>-0.507253</td>\n",
       "      <td>-0.036806</td>\n",
       "      <td>0.713857</td>\n",
       "      <td>0.009064</td>\n",
       "      <td>-0.316912</td>\n",
       "      <td>1.000000</td>\n",
       "    </tr>\n",
       "  </tbody>\n",
       "</table>\n",
       "</div>"
      ],
      "text/plain": [
       "                   Age      Fare     Parch    Pclass     SibSp  Survived  \\\n",
       "Age           1.000000  0.178740 -0.150917 -0.408106 -0.243699 -0.077221   \n",
       "Fare          0.178740  1.000000  0.221539 -0.558629  0.160238  0.257307   \n",
       "Parch        -0.150917  0.221539  1.000000  0.018322  0.373587  0.081629   \n",
       "Pclass       -0.408106 -0.558629  0.018322  1.000000  0.060832 -0.338481   \n",
       "SibSp        -0.243699  0.160238  0.373587  0.060832  1.000000 -0.035322   \n",
       "Survived     -0.077221  0.257307  0.081629 -0.338481 -0.035322  1.000000   \n",
       "MissingCabin -0.289740 -0.507253 -0.036806  0.713857  0.009064 -0.316912   \n",
       "\n",
       "              MissingCabin  \n",
       "Age              -0.289740  \n",
       "Fare             -0.507253  \n",
       "Parch            -0.036806  \n",
       "Pclass            0.713857  \n",
       "SibSp             0.009064  \n",
       "Survived         -0.316912  \n",
       "MissingCabin      1.000000  "
      ]
     },
     "execution_count": 10,
     "metadata": {},
     "output_type": "execute_result"
    }
   ],
   "source": [
    "# 1.5.2 Correlation\n",
    "data.corr()"
   ]
  },
  {
   "cell_type": "markdown",
   "metadata": {},
   "source": [
    "## 2. Preprocessing"
   ]
  },
  {
   "cell_type": "markdown",
   "metadata": {},
   "source": [
    "### 2.1 Missing values imputation"
   ]
  },
  {
   "cell_type": "code",
   "execution_count": 11,
   "metadata": {
    "collapsed": true
   },
   "outputs": [],
   "source": [
    "# Embarked \n",
    "data.Embarked.fillna('S', inplace=True)"
   ]
  },
  {
   "cell_type": "code",
   "execution_count": 12,
   "metadata": {
    "collapsed": true
   },
   "outputs": [],
   "source": [
    "# Age\n",
    "# Imputing missing values in 'Age'\n",
    "def age_imputer(dataset):\n",
    "    for i in range(len(dataset.Age)):\n",
    "        if dataset.Age.isnull().iloc[i]: \n",
    "            dataset.Age.iloc[i] = dataset[(dataset[\"Pclass\"] == dataset[\"Pclass\"].iloc[i]) \n",
    "                                    & (dataset[\"Sex\"] == dataset[\"Sex\"].iloc[i])][\"Age\"].median()"
   ]
  },
  {
   "cell_type": "code",
   "execution_count": 13,
   "metadata": {
    "collapsed": true
   },
   "outputs": [],
   "source": [
    "age_imputer(data[:891])\n",
    "age_imputer(data[891:])"
   ]
  },
  {
   "cell_type": "code",
   "execution_count": 14,
   "metadata": {
    "collapsed": true
   },
   "outputs": [],
   "source": [
    "# Fare\n",
    "data['Fare'] = data['Fare'].fillna(data['Fare'].median())"
   ]
  },
  {
   "cell_type": "code",
   "execution_count": 15,
   "metadata": {
    "collapsed": true
   },
   "outputs": [],
   "source": [
    "# Cabin\n",
    "# Cabin has too many missing values and information containing in Pclass. \n",
    "del data['Cabin']"
   ]
  },
  {
   "cell_type": "code",
   "execution_count": 16,
   "metadata": {},
   "outputs": [
    {
     "data": {
      "text/plain": [
       "Age             False\n",
       "Embarked        False\n",
       "Fare            False\n",
       "MissingCabin    False\n",
       "Name            False\n",
       "Parch           False\n",
       "Pclass          False\n",
       "Sex             False\n",
       "SibSp           False\n",
       "Ticket          False\n",
       "dtype: bool"
      ]
     },
     "execution_count": 16,
     "metadata": {},
     "output_type": "execute_result"
    }
   ],
   "source": [
    "data[data.columns.difference(['Survived'])].isnull().any()"
   ]
  },
  {
   "cell_type": "markdown",
   "metadata": {},
   "source": [
    "### 2.2 Feature engineering"
   ]
  },
  {
   "cell_type": "code",
   "execution_count": 17,
   "metadata": {
    "collapsed": true
   },
   "outputs": [],
   "source": [
    "data['Group'] = np.nan\n",
    "data.loc[(data['Age'] <= 5) & (data['Pclass'] == 1), 'Group'] = \"Inf1\"\n",
    "data.loc[(data['Age'] <= 5) & (data['Pclass'] == 2), 'Group'] = \"Inf2\"\n",
    "data.loc[(data['Age'] <= 5) & (data['Pclass'] == 3), 'Group'] = \"Inf3\"\n",
    "\n",
    "data.loc[(data['Age'] > 5) & (data['Age'] <= 18) & (data['Pclass'] == 1) , 'Group'] = \"Child1\"\n",
    "data.loc[(data['Age'] > 5) & (data['Age'] <= 18) & (data['Pclass'] == 2) , 'Group'] = \"Child2\"\n",
    "data.loc[(data['Age'] > 5) & (data['Age'] <= 18) & (data['Pclass'] == 3) , 'Group'] = \"Child3\"\n",
    "\n",
    "data.loc[(data['Age'] > 18) & (data['Age'] <= 50) & (data['Pclass'] == 1) & (data['Sex'] == 'male'), 'Group'] = \"Man1\"\n",
    "data.loc[(data['Age'] > 18) & (data['Age'] <= 50) & (data['Pclass'] == 2) & (data['Sex'] == 'male'), 'Group'] = \"Man2\"\n",
    "data.loc[(data['Age'] > 18) & (data['Age'] <= 50) & (data['Pclass'] == 3) & (data['Sex'] == 'male'), 'Group'] = \"Man3\"\n",
    "\n",
    "data.loc[(data['Age'] > 18) & (data['Age'] <= 50) & (data['Pclass'] == 1) & (data['Sex'] == 'female'), 'Group'] = \"Woman1\"\n",
    "data.loc[(data['Age'] > 18) & (data['Age'] <= 50) & (data['Pclass'] == 2) & (data['Sex'] == 'female'), 'Group'] = \"Woman2\"\n",
    "data.loc[(data['Age'] > 18) & (data['Age'] <= 50) & (data['Pclass'] == 3) & (data['Sex'] == 'female'), 'Group'] = \"Woman3\"\n",
    "\n",
    "data.loc[(data['Age'] > 50)  & (data['Pclass'] == 1) & (data['Sex'] == 'female'), 'Group'] = \"SeniorF1\"\n",
    "data.loc[(data['Age'] > 50)  & (data['Pclass'] == 2) & (data['Sex'] == 'female'), 'Group'] = \"SeniorF2\"\n",
    "data.loc[(data['Age'] > 50)  & (data['Pclass'] == 3) & (data['Sex'] == 'female'), 'Group'] = \"SeniorF3\"\n",
    "\n",
    "data.loc[(data['Age'] > 50)  & (data['Pclass'] == 1) & (data['Sex'] == 'male'), 'Group'] = \"SeniorM1\"\n",
    "data.loc[(data['Age'] > 50)  & (data['Pclass'] == 2) & (data['Sex'] == 'male'), 'Group'] = \"SeniorM2\"\n",
    "data.loc[(data['Age'] > 50)  & (data['Pclass'] == 3) & (data['Sex'] == 'male'), 'Group'] = \"SeniorM3\"\n",
    "\n"
   ]
  },
  {
   "cell_type": "markdown",
   "metadata": {},
   "source": [
    "Conclusions: \n",
    "1. By far the biggest group is men in the third class. Thus, it's very important to focus on them, as their contribution to \n",
    "accuracy is vital. \n",
    "2. Child1, Woman1 and Woman2 have great chances to survive. Inf2 as well. Inf1 seem to be a very small group to draw conclusions. Logically, they should also have good chances. \n",
    "3. It will be hard to predict Woman3, Man1, Senior1, because their chances are very close to 50:50. \n",
    "4. SeniorM1,SeniorM2 SeniorM3, Man2 and Man3 have the lowest chances. \n",
    "5. I didn't expect many survivors among female seniors. Though we have too few observations for those in classes 2 and 3. "
   ]
  },
  {
   "cell_type": "code",
   "execution_count": 19,
   "metadata": {},
   "outputs": [
    {
     "data": {
      "text/plain": [
       "<matplotlib.axes._subplots.AxesSubplot at 0x16a173fcc18>"
      ]
     },
     "execution_count": 19,
     "metadata": {},
     "output_type": "execute_result"
    },
    {
     "data": {
      "image/png": "[encoded data removed]",
      "text/plain": [
       "<matplotlib.figure.Figure at 0x16a171d57b8>"
      ]
     },
     "metadata": {},
     "output_type": "display_data"
    },
    {
     "data": {
      "image/png": "[encoded data removed]",
      "text/plain": [
       "<matplotlib.figure.Figure at 0x16a17272e10>"
      ]
     },
     "metadata": {},
     "output_type": "display_data"
    }
   ],
   "source": [
    "plt.rcParams['figure.figsize'] = (5, 5)\n",
    "cross_abs = pd.crosstab(data['Group'], data[\"Survived\"])\n",
    "cross_rel = cross_abs.div(cross_abs.sum(1).astype(float), axis=0)\n",
    "cross_abs.plot(kind='bar', stacked=True,  grid=False, alpha=0.55)\n",
    "cross_rel.plot(kind='bar', stacked=True,  grid=False, alpha=0.55)"
   ]
  },
  {
   "cell_type": "code",
   "execution_count": null,
   "metadata": {
    "collapsed": true
   },
   "outputs": [],
   "source": []
  },
  {
   "cell_type": "code",
   "execution_count": 94,
   "metadata": {},
   "outputs": [
    {
     "data": {
      "text/plain": [
       "<matplotlib.axes._subplots.AxesSubplot at 0x25c4a550908>"
      ]
     },
     "execution_count": 94,
     "metadata": {},
     "output_type": "execute_result"
    },
    {
     "data": {
      "image/png": "[encoded data removed]",
      "text/plain": [
       "<matplotlib.figure.Figure at 0x25c4a6cc358>"
      ]
     },
     "metadata": {},
     "output_type": "display_data"
    }
   ],
   "source": [
    "plt.rcParams['figure.figsize'] = (5, 5)\n",
    "cross = pd.crosstab(data['Cat_Age'], data[\"Survived\"])\n",
    "#cross = cross.div(cross.sum(1).astype(float), axis=0)\n",
    "cross.plot(kind='bar', stacked=True,  grid=False, alpha=0.55)"
   ]
  },
  {
   "cell_type": "code",
   "execution_count": 93,
   "metadata": {},
   "outputs": [
    {
     "data": {
      "image/png": "[encoded data removed]",
      "text/plain": [
       "<matplotlib.figure.Figure at 0x25c4a266128>"
      ]
     },
     "metadata": {},
     "output_type": "display_data"
    }
   ],
   "source": [
    "sns.factorplot(\"Survived\", col='Sex', col_wrap=4,\n",
    "                        data=train,\n",
    "                        kind=\"count\", size=2.5, aspect=.8);"
   ]
  },
  {
   "cell_type": "code",
   "execution_count": 92,
   "metadata": {},
   "outputs": [
    {
     "data": {
      "text/plain": [
       "<matplotlib.axes._subplots.AxesSubplot at 0x25c4a718ef0>"
      ]
     },
     "execution_count": 92,
     "metadata": {},
     "output_type": "execute_result"
    },
    {
     "data": {
      "image/png": "[encoded data removed]",
      "text/plain": [
       "<matplotlib.figure.Figure at 0x25c4a069160>"
      ]
     },
     "metadata": {},
     "output_type": "display_data"
    }
   ],
   "source": [
    "plt.rcParams['figure.figsize'] = (5, 5)\n",
    "cross = pd.crosstab(data['Sex'], data[\"Survived\"])\n",
    "#cross = cross.div(cross.sum(1).astype(float), axis=0)\n",
    "cross.plot(kind='bar', stacked=False,  grid=False, alpha=0.55)"
   ]
  },
  {
   "cell_type": "code",
   "execution_count": 90,
   "metadata": {},
   "outputs": [
    {
     "data": {
      "text/plain": [
       "<matplotlib.axes._subplots.AxesSubplot at 0x25c4b1de3c8>"
      ]
     },
     "execution_count": 90,
     "metadata": {},
     "output_type": "execute_result"
    },
    {
     "data": {
      "image/png": "[encoded data removed]",
      "text/plain": [
       "<matplotlib.figure.Figure at 0x25c4a0a8e80>"
      ]
     },
     "metadata": {},
     "output_type": "display_data"
    }
   ],
   "source": [
    "plt.rcParams['figure.figsize'] = (5, 5)\n",
    "cross = pd.crosstab(data['Pclass'], data[\"Survived\"])\n",
    "#cross = cross.div(cross.sum(1).astype(float), axis=0)\n",
    "cross.plot(kind='bar', stacked=False,  grid=False, alpha=0.55)"
   ]
  },
  {
   "cell_type": "code",
   "execution_count": 20,
   "metadata": {
    "collapsed": true
   },
   "outputs": [],
   "source": [
    "# Fare \n",
    "data['FareBin'] = pd.qcut(data['Fare'], 5)\n",
    "del data['Fare']"
   ]
  },
  {
   "cell_type": "code",
   "execution_count": 21,
   "metadata": {
    "collapsed": true
   },
   "outputs": [],
   "source": [
    "# Name\n",
    "data['Title'] = data.Name.str.extract(' ([A-Za-z]+)\\.', expand=False)"
   ]
  },
  {
   "cell_type": "code",
   "execution_count": 22,
   "metadata": {},
   "outputs": [
    {
     "data": {
      "text/plain": [
       "Mr          757\n",
       "Miss        260\n",
       "Mrs         197\n",
       "Master       61\n",
       "Dr            8\n",
       "Rev           8\n",
       "Col           4\n",
       "Major         2\n",
       "Mlle          2\n",
       "Ms            2\n",
       "Don           1\n",
       "Sir           1\n",
       "Mme           1\n",
       "Lady          1\n",
       "Capt          1\n",
       "Dona          1\n",
       "Countess      1\n",
       "Jonkheer      1\n",
       "Name: Title, dtype: int64"
      ]
     },
     "execution_count": 22,
     "metadata": {},
     "output_type": "execute_result"
    }
   ],
   "source": [
    "pd.value_counts(data.Title)"
   ]
  },
  {
   "cell_type": "code",
   "execution_count": 23,
   "metadata": {
    "collapsed": true
   },
   "outputs": [],
   "source": [
    "data['Title'] = data['Title'].replace(['Lady', 'Countess','Capt', 'Col',\n",
    "                                            'Don', 'Dr', 'Major', 'Rev', 'Sir', 'Jonkheer', 'Dona'], 'Rare')\n",
    "\n",
    "data['Title'] = data['Title'].replace('Mlle', 'Miss')\n",
    "data['Title'] = data['Title'].replace('Ms', 'Miss')\n",
    "data['Title'] = data['Title'].replace('Mme', 'Mrs')"
   ]
  },
  {
   "cell_type": "code",
   "execution_count": 24,
   "metadata": {},
   "outputs": [
    {
     "data": {
      "image/png": "[encoded data removed]",
      "text/plain": [
       "<matplotlib.figure.Figure at 0x27cbc206da0>"
      ]
     },
     "metadata": {},
     "output_type": "display_data"
    }
   ],
   "source": [
    "#Relative values\n",
    "cross = pd.crosstab(data['Title'], data['Survived'])\n",
    "cross = cross.div(cross.sum(1).astype(float), axis=0)\n",
    "cross.plot(kind='bar', stacked=False,  grid=False, alpha=0.55)\n",
    "plt.rcParams['figure.figsize'] = (10, 10)\n",
    "plt.show()"
   ]
  },
  {
   "cell_type": "code",
   "execution_count": 25,
   "metadata": {
    "collapsed": true
   },
   "outputs": [],
   "source": [
    "del data['Title']"
   ]
  },
  {
   "cell_type": "code",
   "execution_count": 26,
   "metadata": {
    "collapsed": true
   },
   "outputs": [],
   "source": [
    "del data['Name']"
   ]
  },
  {
   "cell_type": "code",
   "execution_count": 27,
   "metadata": {
    "collapsed": true
   },
   "outputs": [],
   "source": [
    "data['FamilySize'] = data['SibSp'] + data['Parch'] + 1\n",
    "del data['SibSp']\n",
    "del data['Parch']"
   ]
  },
  {
   "cell_type": "code",
   "execution_count": 28,
   "metadata": {
    "collapsed": true
   },
   "outputs": [],
   "source": [
    "del data['Ticket']"
   ]
  },
  {
   "cell_type": "code",
   "execution_count": 29,
   "metadata": {},
   "outputs": [
    {
     "data": {
      "text/html": [
       "<div>\n",
       "<style>\n",
       "    .dataframe thead tr:only-child th {\n",
       "        text-align: right;\n",
       "    }\n",
       "\n",
       "    .dataframe thead th {\n",
       "        text-align: left;\n",
       "    }\n",
       "\n",
       "    .dataframe tbody tr th {\n",
       "        vertical-align: top;\n",
       "    }\n",
       "</style>\n",
       "<table border=\"1\" class=\"dataframe\">\n",
       "  <thead>\n",
       "    <tr style=\"text-align: right;\">\n",
       "      <th></th>\n",
       "      <th>Embarked</th>\n",
       "      <th>Pclass</th>\n",
       "      <th>Sex</th>\n",
       "      <th>Survived</th>\n",
       "      <th>MissingCabin</th>\n",
       "      <th>Cat_Age</th>\n",
       "      <th>FareBin</th>\n",
       "      <th>FamilySize</th>\n",
       "    </tr>\n",
       "  </thead>\n",
       "  <tbody>\n",
       "    <tr>\n",
       "      <th>0</th>\n",
       "      <td>S</td>\n",
       "      <td>3</td>\n",
       "      <td>male</td>\n",
       "      <td>0.0</td>\n",
       "      <td>1</td>\n",
       "      <td>Adult</td>\n",
       "      <td>(-0.001, 7.854]</td>\n",
       "      <td>2</td>\n",
       "    </tr>\n",
       "    <tr>\n",
       "      <th>1</th>\n",
       "      <td>C</td>\n",
       "      <td>1</td>\n",
       "      <td>female</td>\n",
       "      <td>1.0</td>\n",
       "      <td>0</td>\n",
       "      <td>Adult</td>\n",
       "      <td>(41.579, 512.329]</td>\n",
       "      <td>2</td>\n",
       "    </tr>\n",
       "    <tr>\n",
       "      <th>2</th>\n",
       "      <td>S</td>\n",
       "      <td>3</td>\n",
       "      <td>female</td>\n",
       "      <td>1.0</td>\n",
       "      <td>1</td>\n",
       "      <td>Adult</td>\n",
       "      <td>(7.854, 10.5]</td>\n",
       "      <td>1</td>\n",
       "    </tr>\n",
       "    <tr>\n",
       "      <th>3</th>\n",
       "      <td>S</td>\n",
       "      <td>1</td>\n",
       "      <td>female</td>\n",
       "      <td>1.0</td>\n",
       "      <td>0</td>\n",
       "      <td>Adult</td>\n",
       "      <td>(41.579, 512.329]</td>\n",
       "      <td>2</td>\n",
       "    </tr>\n",
       "    <tr>\n",
       "      <th>4</th>\n",
       "      <td>S</td>\n",
       "      <td>3</td>\n",
       "      <td>male</td>\n",
       "      <td>0.0</td>\n",
       "      <td>1</td>\n",
       "      <td>Adult</td>\n",
       "      <td>(7.854, 10.5]</td>\n",
       "      <td>1</td>\n",
       "    </tr>\n",
       "  </tbody>\n",
       "</table>\n",
       "</div>"
      ],
      "text/plain": [
       "  Embarked  Pclass     Sex  Survived  MissingCabin Cat_Age            FareBin  \\\n",
       "0        S       3    male       0.0             1   Adult    (-0.001, 7.854]   \n",
       "1        C       1  female       1.0             0   Adult  (41.579, 512.329]   \n",
       "2        S       3  female       1.0             1   Adult      (7.854, 10.5]   \n",
       "3        S       1  female       1.0             0   Adult  (41.579, 512.329]   \n",
       "4        S       3    male       0.0             1   Adult      (7.854, 10.5]   \n",
       "\n",
       "   FamilySize  \n",
       "0           2  \n",
       "1           2  \n",
       "2           1  \n",
       "3           2  \n",
       "4           1  "
      ]
     },
     "execution_count": 29,
     "metadata": {},
     "output_type": "execute_result"
    }
   ],
   "source": [
    "data.head()"
   ]
  },
  {
   "cell_type": "code",
   "execution_count": 30,
   "metadata": {
    "collapsed": true
   },
   "outputs": [],
   "source": [
    "mapper_1 = {'male': 0, 'female': 1}\n",
    "data[\"Sex\"] = data[\"Sex\"].map(mapper_1)\n",
    "\n",
    "mapper_2 = {'Infant': 0, 'Child': 1, 'Adult':2, 'Senior': 3}\n",
    "data[\"Cat_Age\"] = data[\"Cat_Age\"].map(mapper_2)\n",
    "\n",
    "mapper_3 = {'S': 0, 'Q': 1, 'C': 2}\n",
    "data[\"Embarked\"] = data[\"Embarked\"].map(mapper_3)"
   ]
  },
  {
   "cell_type": "code",
   "execution_count": 31,
   "metadata": {
    "collapsed": true
   },
   "outputs": [],
   "source": [
    "from sklearn.preprocessing import LabelEncoder\n",
    "label = LabelEncoder()\n",
    "data['FareBin'] = label.fit_transform(data['FareBin'])"
   ]
  },
  {
   "cell_type": "code",
   "execution_count": 32,
   "metadata": {},
   "outputs": [
    {
     "data": {
      "text/html": [
       "<div>\n",
       "<style>\n",
       "    .dataframe thead tr:only-child th {\n",
       "        text-align: right;\n",
       "    }\n",
       "\n",
       "    .dataframe thead th {\n",
       "        text-align: left;\n",
       "    }\n",
       "\n",
       "    .dataframe tbody tr th {\n",
       "        vertical-align: top;\n",
       "    }\n",
       "</style>\n",
       "<table border=\"1\" class=\"dataframe\">\n",
       "  <thead>\n",
       "    <tr style=\"text-align: right;\">\n",
       "      <th></th>\n",
       "      <th>Embarked</th>\n",
       "      <th>Pclass</th>\n",
       "      <th>Sex</th>\n",
       "      <th>Survived</th>\n",
       "      <th>MissingCabin</th>\n",
       "      <th>Cat_Age</th>\n",
       "      <th>FareBin</th>\n",
       "      <th>FamilySize</th>\n",
       "    </tr>\n",
       "  </thead>\n",
       "  <tbody>\n",
       "    <tr>\n",
       "      <th>0</th>\n",
       "      <td>0</td>\n",
       "      <td>3</td>\n",
       "      <td>0</td>\n",
       "      <td>0.0</td>\n",
       "      <td>1</td>\n",
       "      <td>2</td>\n",
       "      <td>0</td>\n",
       "      <td>2</td>\n",
       "    </tr>\n",
       "    <tr>\n",
       "      <th>1</th>\n",
       "      <td>2</td>\n",
       "      <td>1</td>\n",
       "      <td>1</td>\n",
       "      <td>1.0</td>\n",
       "      <td>0</td>\n",
       "      <td>2</td>\n",
       "      <td>4</td>\n",
       "      <td>2</td>\n",
       "    </tr>\n",
       "    <tr>\n",
       "      <th>2</th>\n",
       "      <td>0</td>\n",
       "      <td>3</td>\n",
       "      <td>1</td>\n",
       "      <td>1.0</td>\n",
       "      <td>1</td>\n",
       "      <td>2</td>\n",
       "      <td>1</td>\n",
       "      <td>1</td>\n",
       "    </tr>\n",
       "    <tr>\n",
       "      <th>3</th>\n",
       "      <td>0</td>\n",
       "      <td>1</td>\n",
       "      <td>1</td>\n",
       "      <td>1.0</td>\n",
       "      <td>0</td>\n",
       "      <td>2</td>\n",
       "      <td>4</td>\n",
       "      <td>2</td>\n",
       "    </tr>\n",
       "    <tr>\n",
       "      <th>4</th>\n",
       "      <td>0</td>\n",
       "      <td>3</td>\n",
       "      <td>0</td>\n",
       "      <td>0.0</td>\n",
       "      <td>1</td>\n",
       "      <td>2</td>\n",
       "      <td>1</td>\n",
       "      <td>1</td>\n",
       "    </tr>\n",
       "  </tbody>\n",
       "</table>\n",
       "</div>"
      ],
      "text/plain": [
       "   Embarked  Pclass  Sex  Survived  MissingCabin  Cat_Age  FareBin  FamilySize\n",
       "0         0       3    0       0.0             1        2        0           2\n",
       "1         2       1    1       1.0             0        2        4           2\n",
       "2         0       3    1       1.0             1        2        1           1\n",
       "3         0       1    1       1.0             0        2        4           2\n",
       "4         0       3    0       0.0             1        2        1           1"
      ]
     },
     "execution_count": 32,
     "metadata": {},
     "output_type": "execute_result"
    }
   ],
   "source": [
    "data.head()"
   ]
  },
  {
   "cell_type": "code",
   "execution_count": 47,
   "metadata": {
    "collapsed": true
   },
   "outputs": [],
   "source": [
    "data['Cl*Sex'] = data['Sex'] * data['Pclass'] \n",
    "data['Cl*Age'] = data['Cat_Age'] * data['Pclass'] "
   ]
  },
  {
   "cell_type": "markdown",
   "metadata": {},
   "source": [
    "## 2.3 Feature selection"
   ]
  },
  {
   "cell_type": "code",
   "execution_count": 36,
   "metadata": {
    "collapsed": true
   },
   "outputs": [],
   "source": [
    "data = pd.get_dummies(data, columns = [\"Embarked\"])"
   ]
  },
  {
   "cell_type": "code",
   "execution_count": 49,
   "metadata": {},
   "outputs": [
    {
     "name": "stdout",
     "output_type": "stream",
     "text": [
      "Cat_Age 0.0531980358901\n",
      "Cl*Age 0.0778130633535\n",
      "Cl*Sex 0.227836184691\n",
      "FamilySize 0.112914765626\n",
      "FareBin 0.110805580838\n",
      "MissingCabin 0.0608561100273\n",
      "Pclass 0.128367606231\n",
      "Sex 0.228208653343\n"
     ]
    }
   ],
   "source": [
    "X = data[:891][data.columns.difference(['Survived'])]\n",
    "Y = data[:891]['Survived']\n",
    "\n",
    "from sklearn.ensemble import ExtraTreesClassifier\n",
    "\n",
    "model = ExtraTreesClassifier() \n",
    "model.fit(X, Y)\n",
    "for i, z in zip(X.columns, model.feature_importances_):\n",
    "    print(i, z)   "
   ]
  },
  {
   "cell_type": "code",
   "execution_count": 50,
   "metadata": {},
   "outputs": [
    {
     "data": {
      "image/png": "[encoded data removed]",
      "text/plain": [
       "<matplotlib.figure.Figure at 0x27cbc9e1b00>"
      ]
     },
     "metadata": {},
     "output_type": "display_data"
    }
   ],
   "source": [
    "sns.barplot(x=X.columns, y=model.feature_importances_)\n",
    "plt.show()"
   ]
  },
  {
   "cell_type": "code",
   "execution_count": 39,
   "metadata": {
    "collapsed": true
   },
   "outputs": [],
   "source": [
    "del data['Embarked_0']\n",
    "del data['Embarked_1']\n",
    "del data['Embarked_2']"
   ]
  },
  {
   "cell_type": "code",
   "execution_count": 56,
   "metadata": {
    "collapsed": true
   },
   "outputs": [],
   "source": [
    "del data['Cat_Age']\n",
    "del data['MissingCabin']\n",
    "del data['Cl*Age']"
   ]
  },
  {
   "cell_type": "code",
   "execution_count": 40,
   "metadata": {},
   "outputs": [
    {
     "data": {
      "text/html": [
       "<div>\n",
       "<style>\n",
       "    .dataframe thead tr:only-child th {\n",
       "        text-align: right;\n",
       "    }\n",
       "\n",
       "    .dataframe thead th {\n",
       "        text-align: left;\n",
       "    }\n",
       "\n",
       "    .dataframe tbody tr th {\n",
       "        vertical-align: top;\n",
       "    }\n",
       "</style>\n",
       "<table border=\"1\" class=\"dataframe\">\n",
       "  <thead>\n",
       "    <tr style=\"text-align: right;\">\n",
       "      <th></th>\n",
       "      <th>Pclass</th>\n",
       "      <th>Sex</th>\n",
       "      <th>Survived</th>\n",
       "      <th>MissingCabin</th>\n",
       "      <th>Cat_Age</th>\n",
       "      <th>FareBin</th>\n",
       "      <th>FamilySize</th>\n",
       "    </tr>\n",
       "  </thead>\n",
       "  <tbody>\n",
       "    <tr>\n",
       "      <th>0</th>\n",
       "      <td>3</td>\n",
       "      <td>0</td>\n",
       "      <td>0.0</td>\n",
       "      <td>1</td>\n",
       "      <td>2</td>\n",
       "      <td>0</td>\n",
       "      <td>2</td>\n",
       "    </tr>\n",
       "    <tr>\n",
       "      <th>1</th>\n",
       "      <td>1</td>\n",
       "      <td>1</td>\n",
       "      <td>1.0</td>\n",
       "      <td>0</td>\n",
       "      <td>2</td>\n",
       "      <td>4</td>\n",
       "      <td>2</td>\n",
       "    </tr>\n",
       "    <tr>\n",
       "      <th>2</th>\n",
       "      <td>3</td>\n",
       "      <td>1</td>\n",
       "      <td>1.0</td>\n",
       "      <td>1</td>\n",
       "      <td>2</td>\n",
       "      <td>1</td>\n",
       "      <td>1</td>\n",
       "    </tr>\n",
       "    <tr>\n",
       "      <th>3</th>\n",
       "      <td>1</td>\n",
       "      <td>1</td>\n",
       "      <td>1.0</td>\n",
       "      <td>0</td>\n",
       "      <td>2</td>\n",
       "      <td>4</td>\n",
       "      <td>2</td>\n",
       "    </tr>\n",
       "    <tr>\n",
       "      <th>4</th>\n",
       "      <td>3</td>\n",
       "      <td>0</td>\n",
       "      <td>0.0</td>\n",
       "      <td>1</td>\n",
       "      <td>2</td>\n",
       "      <td>1</td>\n",
       "      <td>1</td>\n",
       "    </tr>\n",
       "  </tbody>\n",
       "</table>\n",
       "</div>"
      ],
      "text/plain": [
       "   Pclass  Sex  Survived  MissingCabin  Cat_Age  FareBin  FamilySize\n",
       "0       3    0       0.0             1        2        0           2\n",
       "1       1    1       1.0             0        2        4           2\n",
       "2       3    1       1.0             1        2        1           1\n",
       "3       1    1       1.0             0        2        4           2\n",
       "4       3    0       0.0             1        2        1           1"
      ]
     },
     "execution_count": 40,
     "metadata": {},
     "output_type": "execute_result"
    }
   ],
   "source": [
    "data.head()"
   ]
  },
  {
   "cell_type": "code",
   "execution_count": 57,
   "metadata": {
    "collapsed": true
   },
   "outputs": [],
   "source": [
    "X = data[:891][data.columns.difference(['Survived'])]\n",
    "Y = data[:891]['Survived']\n",
    "X_pred = data[891:][data.columns.difference(['Survived'])]"
   ]
  },
  {
   "cell_type": "markdown",
   "metadata": {},
   "source": [
    "## 3. Model building"
   ]
  },
  {
   "cell_type": "markdown",
   "metadata": {},
   "source": [
    "### 3.1 Model training\n",
    "#### 3.1.1 Parameter setting via GridSearch"
   ]
  },
  {
   "cell_type": "code",
   "execution_count": 42,
   "metadata": {
    "collapsed": true
   },
   "outputs": [],
   "source": [
    "from sklearn.ensemble import RandomForestClassifier\n",
    "from sklearn.tree import DecisionTreeClassifier\n",
    "from sklearn.ensemble import ExtraTreesClassifier\n",
    "from sklearn.neighbors import KNeighborsClassifier\n",
    "from sklearn.ensemble import AdaBoostClassifier\n",
    "from sklearn.svm import SVC\n",
    "from sklearn.linear_model import LogisticRegression\n",
    "from sklearn.ensemble import GradientBoostingClassifier\n",
    "from sklearn.model_selection import cross_val_score\n",
    "from sklearn.preprocessing import StandardScaler"
   ]
  },
  {
   "cell_type": "code",
   "execution_count": 58,
   "metadata": {
    "collapsed": true
   },
   "outputs": [],
   "source": [
    "logreg = LogisticRegression()\n",
    "svc_lin = SVC(kernel='linear')\n",
    "svc_rbf = SVC(kernel='rbf')\n",
    "knn = KNeighborsClassifier(algorithm='auto', leaf_size=16, metric='minkowski',\n",
    "           metric_params=None, n_jobs=1, n_neighbors=9, p=2,\n",
    "           weights='uniform')\n",
    "decision_tree = DecisionTreeClassifier(max_depth=6 )\n",
    "random_forest = RandomForestClassifier(max_depth=6, n_estimators=10)\n",
    "extra_trees = ExtraTreesClassifier(max_depth=6,n_estimators=10)\n",
    "gbc = GradientBoostingClassifier()\n",
    "ada = AdaBoostClassifier()\n",
    "\n",
    "models = [logreg, svc_lin, svc_rbf, knn, \n",
    "              decision_tree, random_forest, extra_trees, gbc, ada]"
   ]
  },
  {
   "cell_type": "code",
   "execution_count": 59,
   "metadata": {
    "collapsed": true
   },
   "outputs": [],
   "source": [
    "from sklearn.model_selection import StratifiedShuffleSplit\n",
    "sss = StratifiedShuffleSplit(n_splits=5, test_size=0.1, random_state=0)"
   ]
  },
  {
   "cell_type": "code",
   "execution_count": 60,
   "metadata": {
    "collapsed": true
   },
   "outputs": [],
   "source": [
    "np.set_printoptions(suppress=True)\n",
    "\n",
    "number_models = len(models)\n",
    "folds = 5\n",
    "\n",
    "Chart_1 = np.zeros((len(data[:891]),number_models))\n",
    "Chart_2 = np.zeros((len(data[891:]), folds))\n",
    "Chart_3 = np.zeros((len(data[891:]), number_models))\n",
    "\n",
    "#X_pred = X.iloc[prediction_indexes]#[data.columns.difference(['Survived'])]\n",
    "#X_pred.drop(X_pred.iloc[:, col_to_drop], axis=1, inplace = True)"
   ]
  },
  {
   "cell_type": "code",
   "execution_count": 61,
   "metadata": {},
   "outputs": [
    {
     "data": {
      "text/plain": [
       "<matplotlib.axes._subplots.AxesSubplot at 0x27cbcec17f0>"
      ]
     },
     "execution_count": 61,
     "metadata": {},
     "output_type": "execute_result"
    },
    {
     "data": {
      "image/png": "[encoded data removed]",
      "text/plain": [
       "<matplotlib.figure.Figure at 0x27cbd01a5c0>"
      ]
     },
     "metadata": {},
     "output_type": "display_data"
    },
    {
     "data": {
      "image/png": "[encoded data removed]",
      "text/plain": [
       "<matplotlib.figure.Figure at 0x27cbcf641d0>"
      ]
     },
     "metadata": {},
     "output_type": "display_data"
    }
   ],
   "source": [
    "from sklearn.metrics import accuracy_score\n",
    "\n",
    "scores = pd.DataFrame(columns= ['Model','Accuracy_valid', 'Accuracy_train'])\n",
    "\n",
    "for i, model in enumerate(models):\n",
    "    for j, (train_index, test_index) in enumerate(sss.split(X, Y)):\n",
    "        X_train, X_test = X.loc[train_index], X.loc[test_index]\n",
    "        Y_train, Y_test = Y.loc[train_index], Y.loc[test_index]\n",
    "        \n",
    "        # if I had a continuous feature that I needed to scale, I would place it here.\n",
    "        sc_1 = StandardScaler().fit(X_train[\"FareBin\"])\n",
    "        X_train[\"FareBin\"] = sc_1.transform(X_train[\"FareBin\"])\n",
    "        X_test[\"FareBin\"] = sc_1.transform(X_test[\"FareBin\"]) \n",
    "        \n",
    "        sc_2 = StandardScaler().fit(X_train[\"FamilySize\"])\n",
    "        X_train[\"FamilySize\"] = sc_2.transform(X_train[\"FamilySize\"])\n",
    "        X_test[\"FamilySize\"] = sc_2.transform(X_test[\"FamilySize\"])\n",
    "        \n",
    "        sc_4 = StandardScaler().fit(X_train[\"Pclass\"])\n",
    "        X_train[\"Pclass\"] = sc_4.transform(X_train[\"Pclass\"])\n",
    "        X_test[\"Pclass\"] = sc_4.transform(X_test[\"Pclass\"])\n",
    "        \n",
    "     \n",
    "        sc_6 = StandardScaler().fit(X_train[\"Cl*Sex\"])\n",
    "        X_train[\"Cl*Sex\"] = sc_6.transform(X_train[\"Cl*Sex\"])\n",
    "        X_test[\"Cl*Sex\"] = sc_6.transform(X_test[\"Cl*Sex\"])\n",
    "        \n",
    "    \n",
    "    \n",
    "        model.fit(X_train, Y_train)\n",
    "        Chart_1[test_index, i-1] = model.predict(X_test)\n",
    "        Chart_2[ :, j-1] = model.predict(X_pred)\n",
    "        Chart_3[ :, i-1] = Chart_2.mean(axis= 1)\n",
    "        name = str(model).rsplit('(', 1)[0]\n",
    "        accuracy_val = np.average(cross_val_score(model, X_test, Y_test, scoring= \"accuracy\"))\n",
    "        accuracy_train = np.average(cross_val_score(model, X_train, Y_train, scoring= \"accuracy\"))\n",
    "        scores = scores.append({'Model': name,'Accuracy_valid': accuracy_val, 'Accuracy_train': accuracy_train}, ignore_index=True)\n",
    "\n",
    "scores.set_index(\"Model\") \n",
    "scores.plot(x= 'Model', y = 'Accuracy_valid', kind='bar', title='Scores' )\n",
    "scores.plot(x= 'Model', y = 'Accuracy_train', kind='bar', title='Scores' )"
   ]
  },
  {
   "cell_type": "code",
   "execution_count": 67,
   "metadata": {
    "collapsed": true
   },
   "outputs": [],
   "source": [
    "stacking = LogisticRegression().fit(Chart_1, Y)\n",
    "Y_submit = stacking.predict(Chart_3)"
   ]
  },
  {
   "cell_type": "code",
   "execution_count": 68,
   "metadata": {
    "collapsed": true
   },
   "outputs": [],
   "source": [
    "Y_submit = Y_submit.astype(int)\n",
    "submission = pd.DataFrame({ 'PassengerId': prediction_indexes,\n",
    "                            'Survived': Y_submit })\n",
    "submission.to_csv(\"submission_26Febr.csv\", index=False)\n"
   ]
  }
 ],
 "metadata": {
  "kernelspec": {
   "display_name": "Python 3",
   "language": "python",
   "name": "python3"
  },
  "language_info": {
   "codemirror_mode": {
    "name": "ipython",
    "version": 3
   },
   "file_extension": ".py",
   "mimetype": "text/x-python",
   "name": "python",
   "nbconvert_exporter": "python",
   "pygments_lexer": "ipython3",
   "version": "3.6.1"
  }
 },
 "nbformat": 4,
 "nbformat_minor": 2
}
